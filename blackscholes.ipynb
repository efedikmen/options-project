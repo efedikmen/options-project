{
  "cells": [
    {
      "cell_type": "markdown",
      "metadata": {
        "id": "view-in-github",
        "colab_type": "text"
      },
      "source": [
        "<a href=\"https://colab.research.google.com/github/efedikmen/testrepo/blob/master/blackscholes.ipynb\" target=\"_parent\"><img src=\"https://colab.research.google.com/assets/colab-badge.svg\" alt=\"Open In Colab\"/></a>"
      ]
    },
    {
      "cell_type": "markdown",
      "metadata": {
        "id": "M7dDVbPLQiD8"
      },
      "source": [
        "## Calculating options prices and greeks using Black-Scholes for various European options\n",
        "Contact ed1756@stern.nyu.edu for suggestions - WIP\n",
        "\\\n",
        "\\\n",
        "*How to use the notebook*: \n",
        "1. Go to \"Runtime\" in the toolbar at the top left and select \"run all\".\n",
        "2. Adjust the variables in the last cell according to the parameters of the option you want to value. Refer to the comments on each line for your inputs.\n",
        "3. After entering your inputs, run the last cell by clicking on the run button that appears at the top left of the cell when you hover over the cell.\n",
        "4. You will get the option price and a dictionary of first order greeks and gamma. The greeks are not yet adjusted in the forex and futures cases.\n",
        "\\\n",
        "\\\n",
        "Black-Scholes pricing of the European call option for a stock without dividends is:\n",
        "$$C=S\\mathcal{N}(d_1)-Ke^{-Rt}\\mathcal{N}(d_2)$$\n",
        "where\n",
        "$$d_1=\\frac{\\ln(\\frac{S}{K})+Rt+\\frac{\\sigma^2t}{2}}{\\sigma\\sqrt{t}}$$\n",
        "$$d_2=d_1-\\sigma\\sqrt{t}$$\n",
        "\n",
        "- $S$ is the spot price of the underlying\n",
        "- $K$ is the strike price\n",
        "- $R$ is the annual risk free rate\n",
        "- $t$ is time to maturity in years\n",
        "- $\\sigma$ is annualized volatility\n",
        "- $\\mathcal{N}()$ is the cdf of normal distribution\n",
        "\n",
        "The put price with the same parameters can be calculated through put call parity, which should give the same answer with the below formula:\n",
        "$$P=Ke^{-Rt}\\mathcal{N}(-d_2)-S\\mathcal{N}(-d_1)$$\n",
        "\n"
      ]
    },
    {
      "cell_type": "code",
      "execution_count": null,
      "metadata": {
        "id": "uHoP5qlaQiEE"
      },
      "outputs": [],
      "source": [
        "from scipy.stats import norm\n",
        "import math\n",
        "\n",
        "class Option:\n",
        "    def __init__(self, call: bool, S: float, K: float, T: float,R: float,sigma:float):\n",
        "        self.call=call\n",
        "        self.S=S\n",
        "        self.K=K\n",
        "        self.t=T/365\n",
        "        self.R=R\n",
        "        self.sigma=sigma\n",
        "        self.d1=(math.log(self.S/self.K)+R*self.t+(self.sigma**2*self.t/2))/(sigma*math.sqrt(self.t))\n",
        "        self.d2= self.d1-self.sigma*math.sqrt(self.t)\n",
        "        self.nd1=norm.cdf(self.d1)\n",
        "        self.nd2=norm.cdf(self.d2)\n",
        "        self.pdfd1=norm.pdf(self.d1)\n",
        "    def price(self):\n",
        "        callprice = self.S*self.nd1-self.K*math.exp(-self.R*self.t)*self.nd2\n",
        "        if self.call:\n",
        "            return callprice\n",
        "        else:\n",
        "            pvK=self.K/(1+self.R)**self.t\n",
        "            return callprice+pvK-self.S\n",
        "#Greeks\n",
        "    def delta(self):\n",
        "        if self.call:\n",
        "            return self.nd1\n",
        "        else:\n",
        "            return self.nd1-1\n",
        "    def gamma(self):\n",
        "        return self.pdfd1/(self.S*self.sigma*math.sqrt(self.t))\n",
        "    def theta(self):\n",
        "        if self.call:\n",
        "            return (-(self.S*self.pdfd1*self.sigma/(2*math.sqrt(self.t)))-self.R*self.K*math.exp(-self.R*self.t)*self.nd2)/365\n",
        "        else:\n",
        "            return (-(self.S*self.pdfd1*self.sigma/(2*math.sqrt(self.t)))+self.R*self.K*math.exp(-self.R*self.t)*norm.cdf(-self.d2))/365\n",
        "    def vega(self):\n",
        "        return self.S*math.sqrt(self.t)*self.pdfd1*0.01\n",
        "    def rho(self):\n",
        "        if self.call:\n",
        "            return self.K*self.t*math.exp(-self.R*self.t)*self.nd2*0.01\n",
        "        else:\n",
        "            return -self.K*self.t*math.exp(-self.R*self.t)*norm.cdf(-self.d2)*0.01\n",
        "    def greeks(self):\n",
        "        return {\"delta\":self.delta(),\"gamma\":self.gamma(),\"theta\":self.theta(),\"vega\":self.vega(),\"rho\":self.rho()}\n",
        "    "
      ]
    },
    {
      "cell_type": "markdown",
      "metadata": {
        "id": "0H1yhMQwQiEI"
      },
      "source": [
        "When the firm pays a set dividend, we denote the annualized dividend yield by $q$. Then the call price of a dividend paying stock is:\n",
        "$$C=Se^{-qt}\\mathcal{N}(d_1)-Ke^{-Rt}\\mathcal{N}(d_2)$$\n",
        "where\n",
        "$$d_1=\\frac{\\ln(\\frac{S}{K})+(R-q)t+\\frac{\\sigma^2t}{2}}{\\sigma\\sqrt{t}}$$\n",
        "$$d_2=d_1-\\sigma\\sqrt{t}$$\n",
        "\n",
        "Likewise, the put price is:\n",
        "$$P=Ke^{-Rt}\\mathcal{N}(-d_2)-Se^{-qt}\\mathcal{N}(-d_1)$$\n"
      ]
    },
    {
      "cell_type": "code",
      "execution_count": null,
      "metadata": {
        "id": "bLiDNWx9QiEJ"
      },
      "outputs": [],
      "source": [
        "class DividendOption(Option):\n",
        "    def __init__(self,call: bool, S: float, K: float, T: float,R: float,q:float,sigma:float):\n",
        "        super().__init__(call,S,K,T,r,sigma)\n",
        "        self.q=q\n",
        "        self.d1=(math.log(S/K)+(R-q)*t+(sigma**2*t/2))/(sigma*math.sqrt(t))\n",
        "    \n",
        "    def price(self):\n",
        "        if self.call:\n",
        "            return self.S*math.exp(-self.q*self.t)*self.nd1-self.K*math.exp(-self.R*self.t)*self.nd2\n",
        "        else:\n",
        "            return self.K*math.exp(-self.R*self.t)*norm.cdf(-self.d2)-self.S*math.exp(-self.q*self.t)*norm.cdf(-self.d1)\n",
        "    #Greeks\n",
        "    def delta(self):\n",
        "        if self.call:\n",
        "            return math.exp(-self.q*self.t)*self.nd1\n",
        "        else:\n",
        "            return math.exp(-self.q*self.t)*(1-self.nd1)\n",
        "    def gamma(self):\n",
        "        return self.pdfd1*math.exp(-self.q*self.t)/(self.S*self.sigma*math.sqrt(self.t))\n",
        "    def theta(self):\n",
        "        first= self.S*self.pdfd1*self.sigma*math.exp(-self.q*self.t)/(2*math.sqrt(self.t))\n",
        "        second=self.q*self.S*math.exp(-self.q*self.t)\n",
        "        third=self.R*self.K*math.exp(-self.R*self.t)\n",
        "        if self.call:\n",
        "            return (-first+second*self.nd1-third*self.nd2)/365\n",
        "        else:\n",
        "            return (-first-second*norm.cdf(-self.d1)+third*norm.cdf(-self.d2))/365\n",
        "    def vega(self):\n",
        "        return self.S*math.sqrt(self.t)*self.pdfd1*math.exp(-self.q*self.t)*0.01\n",
        "    def rho(self):\n",
        "        if self.call:\n",
        "            return self.K*self.t*math.exp(-self.R*self.t)*self.nd2*0.01\n",
        "        else:\n",
        "            return -self.K*self.t*math.exp(-self.R*self.t)*norm.cdf(-self.d2)*0.01\n",
        "        "
      ]
    },
    {
      "cell_type": "markdown",
      "metadata": {
        "id": "qE0yIc4NQiEK"
      },
      "source": [
        "For a European futures option, we have that \n",
        "$$S=Fe^{-Rt}$$\n",
        "where $F$ is the spot futures price. Then we derive the call price such that:\n",
        "$$C=e^{-Rt}(F\\mathcal{N}(d_1)-K\\mathcal{N}(d_2))$$\n",
        "where\n",
        "$$d_1=\\frac{\\ln(\\frac{F}{K})+\\frac{\\sigma^2t}{2}}{\\sigma\\sqrt{t}}$$\n",
        "$$d_2=d_1-\\sigma\\sqrt{t}$$\n",
        "Note that $\\sigma$ is the annual volatility of the futures price. The price of the put follows:\n",
        "$$P=e^{-Rt}(K\\mathcal{N}(-d_2)-F\\mathcal{N}(-d_1))$$"
      ]
    },
    {
      "cell_type": "code",
      "execution_count": null,
      "metadata": {
        "id": "wZ9YZpN0QiEL"
      },
      "outputs": [],
      "source": [
        "class FuturesOption(Option):\n",
        "    def __init__(self, call: bool, S: float, K: float, T: float,R: float,sigma:float):\n",
        "        super().__init__(call,S,K,T,R,sigma)\n",
        "        self.d1=(math.exp(self.S/self.K)+self.sigma**2*self.t/2)/(self.sigma*math.sqrt(self.t))\n",
        "    def price(self):\n",
        "        if self.call:\n",
        "            return math.exp(-self.R*self.t)*((self.S*self.nd1)-self.K*self.nd2)\n",
        "        else:\n",
        "            return math.exp(-self.R*self.t)*((self.K*norm.cdf(-self.d2))-self.S*norm.cdf(-self.d1))"
      ]
    },
    {
      "cell_type": "markdown",
      "metadata": {
        "id": "TyhkJxKlQiEL"
      },
      "source": [
        "European call option on forex. Take a call option on a foreign currency, which will give the right to buy the foreign currency with the domestic currency at the strike price. Then, we denote $R_f$ as the annual risk free rate in the foreign country and $R$ the annual domestic risk free rate. The call price is:\n",
        "$$C=Se^{-R_ft}\\mathcal{N}(d_1)-Ke^{-Rt}\\mathcal{N}(d_2)$$\n",
        "where\n",
        "$$d_1=\\frac{\\ln(\\frac{S}{K})+(R-R_f)t+\\frac{\\sigma^2t}{2}}{\\sigma\\sqrt{t}}$$\n",
        "$$d_2=d_1-\\sigma\\sqrt{t}$$\n",
        "Note that $\\sigma$ is the annual volatility of the futures price. The price of the put follows:\n",
        "$$P=Ke^{-Rt}\\mathcal{N}(-d_2)-Se^{-R_ft}\\mathcal{N}(-d_1)$$"
      ]
    },
    {
      "cell_type": "code",
      "execution_count": null,
      "metadata": {
        "id": "am5N2ZCoQiEM"
      },
      "outputs": [],
      "source": [
        "class ForexOption(Option):\n",
        "    def __init__(self, call: bool, S: float, K: float, T: float,R: float,Rf:float,sigma:float):\n",
        "        super().__init__(call,S,K,T,r,sigma)\n",
        "        self.Rf=Rf\n",
        "        self.d1=(math.exp(self.S/self.K)+(self.R-self.Rf)*self.t+self.sigma**2*self.t/2)/(self.sigma*math.sqrt(self.t))\n",
        "    def price(self):\n",
        "        if self.call:\n",
        "            return self.S*math.exp(-self.Rf*self.t)*self.nd1-self.K*math.exp(-self.R*self.t)*self.nd2\n",
        "        else:\n",
        "            return self.K*math.exp(-self.R*self.t)*norm.cdf(-self.d2)-self.S*math.exp(-self.Rf*self.t)*norm.cdf(-self.d1)"
      ]
    },
    {
      "cell_type": "code",
      "execution_count": null,
      "metadata": {
        "colab": {
          "base_uri": "https://localhost:8080/"
        },
        "id": "7HRlxOHFQiEN",
        "outputId": "b9b82dd0-60ab-45c5-93c3-e246eabcda35"
      },
      "outputs": [
        {
          "output_type": "stream",
          "name": "stdout",
          "text": [
            "5.752593081943331\n",
            "{'delta': 0.530849952434708, 'gamma': 0.027747557988299164, 'theta': -0.09632266166298419, 'vega': 0.11403106022588698, 'rho': 0.03890334424235134}\n"
          ]
        }
      ],
      "source": [
        "futures= False #enter true if it is a futures option\n",
        "call= True #enter True for call, False for put\n",
        "S= 100 #spot price, enter exchange rate for forex and futures price for futures options\n",
        "K= 100 #strike\n",
        "t= 30 #days to maturity\n",
        "r= 0.01#annualized risk free rate, 0.01=1%\n",
        "rf= 0 #annualized risk free rate for the foreign currency, leave as 0 unless for an forex option, 0.01=1%\n",
        "q= 0 #annual dividend rate, leave as 0 unless for an option on a dividend paying stock, 0.01=1%\n",
        "sigma= 0.5 #annualized volatility in the price of the underlying, 0.01=1%\n",
        "\n",
        "if q!=0:\n",
        "    opt=DividendOption(call,S,K,t,r,q,sigma)\n",
        "    print(opt.price())\n",
        "    print(opt.greeks())\n",
        "elif rf!=0:\n",
        "    opt=ForexOption(call,S,K,t,r,rf,sigma)\n",
        "    print(opt.price())\n",
        "elif futures:\n",
        "    opt=FuturesOption(call,S,K,t,r,sigma)\n",
        "    print(opt.price())\n",
        "else:\n",
        "    opt=Option(call,S,K,t,r,sigma)\n",
        "    print(opt.price())\n",
        "    print(opt.greeks())"
      ]
    }
  ],
  "metadata": {
    "kernelspec": {
      "display_name": "Python 3",
      "language": "python",
      "name": "python3"
    },
    "language_info": {
      "codemirror_mode": {
        "name": "ipython",
        "version": 3
      },
      "file_extension": ".py",
      "mimetype": "text/x-python",
      "name": "python",
      "nbconvert_exporter": "python",
      "pygments_lexer": "ipython3",
      "version": "3.7.4"
    },
    "colab": {
      "name": "blackscholes.ipynb",
      "provenance": [],
      "collapsed_sections": [],
      "include_colab_link": true
    }
  },
  "nbformat": 4,
  "nbformat_minor": 0
}